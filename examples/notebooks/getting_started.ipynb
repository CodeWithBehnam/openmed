{
 "cells": [
  {
   "cell_type": "markdown",
   "id": "362b140c",
   "metadata": {},
   "source": [
    "# OpenMed Getting Started Guide\n",
    "\n",
    "Welcome to OpenMed! This notebook will walk you through the basics of using OpenMed for healthcare-focused Named Entity Recognition (NER) tasks.\n",
    "\n",
    "## What is OpenMed?\n",
    "\n",
    "OpenMed is a Python toolkit that makes it easy to work with healthcare-focused NER models from Hugging Face. It provides:\n",
    "- **Curated model registry** with healthcare-specific models\n",
    "- **Easy model loading** and pipeline creation\n",
    "- **Advanced NER processing** with filtering and grouping\n",
    "- **Text preprocessing** utilities for medical text\n",
    "- **Multiple output formats** (JSON, HTML, CSV, dict)\n",
    "- **Built-in validation** and safety checks\n",
    "\n",
    "## Installation\n",
    "\n",
    "First, let's install OpenMed and its dependencies:\n"
   ]
  },
  {
   "cell_type": "code",
   "execution_count": null,
   "metadata": {},
   "outputs": [],
   "source": [
    "# Install OpenMed\n",
    "%pip install openmed\n",
    "\n",
    "# Install required dependencies\n",
    "%pip install transformers torch\n",
    "\n",
    "# Set up logging suppression for external libraries\n",
    "import logging\n",
    "import warnings\n",
    "\n",
    "# Suppress external library logs BEFORE importing OpenMed\n",
    "logging.getLogger(\"transformers\").setLevel(logging.ERROR)\n",
    "logging.getLogger(\"torch\").setLevel(logging.ERROR)\n",
    "logging.getLogger(\"datasets\").setLevel(logging.ERROR)\n",
    "logging.getLogger(\"huggingface_hub\").setLevel(logging.ERROR)\n",
    "\n",
    "# Suppress warnings\n",
    "warnings.filterwarnings(\"ignore\")\n",
    "\n",
    "# Set up OpenMed logging\n",
    "from openmed.utils import setup_logging\n",
    "setup_logging(level=\"WARNING\")\n"
   ]
  },
  {
   "cell_type": "code",
   "execution_count": null,
   "id": "aed2887c",
   "metadata": {},
   "outputs": [],
   "source": [
    "from openmed.core import OpenMedConfig\n",
    "from openmed import setup_logging\n",
    "\n",
    "# Set up logging with minimal output\n",
    "setup_logging(level=\"ERROR\")\n",
    "\n",
    "# Or create a custom config\n",
    "config = OpenMedConfig(log_level=\"ERROR\")"
   ]
  },
  {
   "cell_type": "markdown",
   "id": "f6accf2a",
   "metadata": {},
   "source": [
    "## Quick Start - Basic Text Analysis\n",
    "\n",
    "Let's start with the simplest way to analyze medical text:\n"
   ]
  },
  {
   "cell_type": "code",
   "execution_count": null,
   "metadata": {},
   "outputs": [],
   "source": [
    "from openmed import analyze_text\n",
    "\n",
    "# Simple medical text analysis\n",
    "text = \"Patient diagnosed with acute lymphoblastic leukemia and started on imatinib.\"\n",
    "\n",
    "result = analyze_text(\n",
    "    text,\n",
    "    model_name=\"disease_detection_superclinical\",\n",
    "    group_entities=True,\n",
    "    include_confidence=True,\n",
    "    output_format=\"dict\",\n",
    ")\n",
    "\n",
    "print(result)\n",
    "print(\"Detected entities:\")\n",
    "for entity in result.entities:\n",
    "    print(f\"{entity.label}: '{entity.text}' (confidence: {entity.confidence:.3f})\")\n"
   ]
  },
  {
   "cell_type": "code",
   "execution_count": null,
   "metadata": {},
   "outputs": [],
   "source": [
    "# Try another example with pharmaceutical entities\n",
    "text2 = \"Patient received 75mg clopidogrel for NSTEMI and was also prescribed metformin 500mg twice daily.\"\n",
    "\n",
    "result2 = analyze_text(\n",
    "    text2,\n",
    "    model_name=\"pharma_detection_superclinical\"\n",
    ")\n",
    "\n",
    "print(\"Detected pharmaceutical entities:\")\n",
    "for entity in result2.entities:\n",
    "    print(f\"{entity.label}:'{entity.text}' (confidence: {entity.confidence:.3f})\")\n"
   ]
  },
  {
   "cell_type": "markdown",
   "id": "c9483c33",
   "metadata": {},
   "source": [
    "## Model Discovery and Selection\n",
    "\n",
    "OpenMed includes a curated registry of healthcare models. Let's explore what's available:\n"
   ]
  },
  {
   "cell_type": "code",
   "execution_count": null,
   "metadata": {},
   "outputs": [],
   "source": [
    "from openmed import list_models\n",
    "\n",
    "# See all available models\n",
    "models = list_models()\n",
    "print(f\"Total models available: {len(models)}\")\n",
    "print(\"\\nFirst 10 models:\")\n",
    "for model in models[:10]:\n",
    "    print(f\"  - {model}\")\n"
   ]
  },
  {
   "cell_type": "code",
   "execution_count": null,
   "metadata": {},
   "outputs": [],
   "source": [
    "from openmed.core.model_registry import list_model_categories\n",
    "# List all model categories\n",
    "categories = list_model_categories()\n",
    "print(\"Available model categories:\")\n",
    "for category in categories:\n",
    "    print(f\"  - {category}\")\n"
   ]
  },
  {
   "cell_type": "code",
   "execution_count": null,
   "metadata": {},
   "outputs": [],
   "source": [
    "from openmed.core.model_registry import get_models_by_category\n",
    "# Get models by category\n",
    "disease_models = get_models_by_category(\"Disease\")\n",
    "print(\"Disease detection models:\")\n",
    "for model in disease_models:\n",
    "    print(f\"  - {model.display_name} ({model.size_category})\")\n"
   ]
  },
  {
   "cell_type": "code",
   "execution_count": null,
   "metadata": {},
   "outputs": [],
   "source": [
    "from openmed import get_model_suggestions\n",
    "\n",
    "# Get model suggestions based on text content\n",
    "text = \"Metastatic breast cancer treated with paclitaxel and trastuzumab\"\n",
    "suggestions = get_model_suggestions(text)\n",
    "\n",
    "print(\"Model suggestions for the text above:\")\n",
    "for key, info, reason in suggestions:\n",
    "    print(f\"  {info.display_name} -> {reason}\")\n"
   ]
  },
  {
   "cell_type": "markdown",
   "id": "df969960",
   "metadata": {},
   "source": [
    "## Visualization Example\n",
    "\n",
    "Let's create a simple visualization of entity types detected:\n"
   ]
  },
  {
   "cell_type": "code",
   "execution_count": null,
   "metadata": {},
   "outputs": [],
   "source": [
    "# Analyze a longer clinical text and visualize results\n",
    "clinical_text = \"\"\"\n",
    "Patient: John Doe, 65-year-old male\n",
    "Chief Complaint: Chest pain and shortness of breath\n",
    "History: Patient presents with acute onset chest pain radiating to left arm,\n",
    "associated with shortness of breath and diaphoresis.\n",
    "Past Medical History: Type 2 diabetes mellitus diagnosed 2015, Hypertension diagnosed 2010\n",
    "Current Medications: Metformin 1000mg BID, Lisinopril 10mg daily, Atorvastatin 40mg HS\n",
    "\"\"\"\n",
    "\n",
    "# Get results from different models with proper entity grouping\n",
    "disease_result = analyze_text(\n",
    "    clinical_text,\n",
    "    model_name=\"disease_detection_superclinical\",\n",
    "    group_entities=True\n",
    ")\n",
    "pharma_result = analyze_text(\n",
    "    clinical_text,\n",
    "    model_name=\"pharma_detection_superclinical\",\n",
    "    group_entities=True\n",
    ")\n",
    "\n",
    "print(\"Entity Distribution by Model:\")\n",
    "print(\"=\" * 40)\n",
    "\n",
    "# Count entities by type for each model\n",
    "disease_counts = {}\n",
    "for entity in disease_result.entities:\n",
    "    disease_counts[entity.label] = disease_counts.get(entity.label, 0) + 1\n",
    "\n",
    "pharma_counts = {}\n",
    "for entity in pharma_result.entities:\n",
    "    pharma_counts[entity.label] = pharma_counts.get(entity.label, 0) + 1\n",
    "\n",
    "print(\"Disease Model:\")\n",
    "for label, count in disease_counts.items():\n",
    "    print(f\"  {label}: {count}\")\n",
    "\n",
    "print(\"\\nPharma Model:\")\n",
    "for label, count in pharma_counts.items():\n",
    "    print(f\"  {label}: {count}\")\n",
    "\n",
    "# Create a simple text-based chart\n",
    "print(\"\\nEntity Distribution Chart:\")\n",
    "print(\"=\" * 40)\n",
    "\n",
    "# Combine all entities for visualization\n",
    "all_entities = []\n",
    "for entity in disease_result.entities:\n",
    "    all_entities.append((\"Disease Model\", entity.label, entity.text))\n",
    "for entity in pharma_result.entities:\n",
    "    all_entities.append((\"Pharma Model\", entity.label, entity.text))\n",
    "\n",
    "# Show first 10 entities in a table format\n",
    "print(f\"{'Model':<12} {'Entity Type':<15} {'Text'}\")\n",
    "print(\"-\" * 50)\n",
    "for model, label, text in all_entities[:10]:\n",
    "    print(f\"{model:<12} {label:<15} {text}\")\n"
   ]
  },
  {
   "cell_type": "markdown",
   "id": "250250d5",
   "metadata": {},
   "source": [
    "## Summary\n",
    "\n",
    "You've learned how to:\n",
    "\n",
    "1. **Install and set up** OpenMed\n",
    "2. **Perform basic text analysis** with `analyze_text()`\n",
    "3. **Discover and select models** using the registry\n",
    "4. **Use advanced processing** for more control\n",
    "5. **Preprocess medical text** for better results\n",
    "6. **Format outputs** in JSON, HTML, and CSV\n",
    "7. **Process multiple texts** efficiently\n",
    "8. **Validate inputs** for safety\n",
    "9. **Configure** OpenMed for production use\n",
    "10. **Visualize results** with entity distributions\n",
    "\n",
    "OpenMed makes healthcare NER accessible and easy to integrate into your applications!\n",
    "\n",
    "### Next Steps\n",
    "\n",
    "- Explore the [OpenMed website](https://openmed.life) for more examples\n",
    "- Check out the [GitHub repository](https://github.com/maziyarpanahi/openmed) for advanced usage\n",
    "- Join the community discussions for support and feedback\n",
    "\n",
    "### Useful Resources\n",
    "\n",
    "- **Documentation**: Available on the website\n",
    "- **Model Registry**: All available models with descriptions\n",
    "- **Examples**: More notebooks and code samples\n",
    "- **API Reference**: Complete function documentation\n"
   ]
  }
 ],
 "metadata": {
  "kernelspec": {
   "display_name": "Python 3",
   "language": "python",
   "name": "python3"
  },
  "language_info": {
   "codemirror_mode": {
    "name": "ipython",
    "version": 3
   },
   "file_extension": ".py",
   "mimetype": "text/x-python",
   "name": "python",
   "nbconvert_exporter": "python",
   "pygments_lexer": "ipython3",
   "version": "3.10.16"
  }
 },
 "nbformat": 4,
 "nbformat_minor": 5
}
