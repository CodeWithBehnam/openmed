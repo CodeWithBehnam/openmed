{
 "cells": [
  {
   "cell_type": "markdown",
   "id": "362b140c",
   "metadata": {},
   "source": [
    "# OpenMed Getting Started Guide\n",
    "\n",
    "Welcome to OpenMed! This notebook will walk you through the basics of using OpenMed for healthcare-focused Named Entity Recognition (NER) tasks.\n",
    "\n",
    "## What is OpenMed?\n",
    "\n",
    "OpenMed is a Python toolkit that makes it easy to work with healthcare-focused NER models from Hugging Face. It provides:\n",
    "- **Curated model registry** with healthcare-specific models\n",
    "- **Easy model loading** and pipeline creation\n",
    "- **Advanced NER processing** with filtering and grouping\n",
    "- **Text preprocessing** utilities for medical text\n",
    "- **Multiple output formats** (JSON, HTML, CSV, dict)\n",
    "- **Built-in validation** and safety checks\n",
    "\n",
    "## Installation\n",
    "\n",
    "First, let's install OpenMed and its dependencies:\n"
   ]
  },
  {
   "cell_type": "code",
   "execution_count": null,
   "metadata": {},
   "outputs": [],
   "source": [
    "# Install OpenMed\n",
    "%pip install openmed\n",
    "\n",
    "# Install required dependencies\n",
    "%pip install transformers torch"
   ]
  },
  {
   "cell_type": "markdown",
   "id": "f6accf2a",
   "metadata": {},
   "source": [
    "## Quick Start - Basic Text Analysis\n",
    "\n",
    "Let's start with the simplest way to analyze medical text:\n"
   ]
  },
  {
   "cell_type": "code",
   "execution_count": null,
   "metadata": {},
   "outputs": [],
   "source": [
    "from openmed import analyze_text\n",
    "\n",
    "# Simple medical text analysis\n",
    "text = \"Patient diagnosed with acute lymphoblastic leukemia and started on imatinib.\"\n",
    "\n",
    "result = analyze_text(\n",
    "    text,\n",
    "    model_name=\"disease_detection_superclinical\",\n",
    "    group_entities=True,\n",
    "    include_confidence=True,\n",
    "    output_format=\"dict\",\n",
    ")\n",
    "\n",
    "print(result)\n",
    "print(\"Detected entities:\")\n",
    "for entity in result.entities:\n",
    "    print(f\"{entity.label}: '{entity.text}' (confidence: {entity.confidence:.3f})\")\n"
   ]
  },
  {
   "cell_type": "code",
   "execution_count": null,
   "metadata": {},
   "outputs": [],
   "source": [
    "# Try another example with pharmaceutical entities\n",
    "text2 = \"Patient received 75mg clopidogrel for NSTEMI and was also prescribed metformin 500mg twice daily.\"\n",
    "\n",
    "result2 = analyze_text(\n",
    "    text2,\n",
    "    model_name=\"pharma_detection_superclinical\"\n",
    ")\n",
    "\n",
    "print(\"Detected pharmaceutical entities:\")\n",
    "for entity in result2.entities:\n",
    "    print(f\"{entity.label}:'{entity.text}' (confidence: {entity.confidence:.3f})\")\n"
   ]
  },
  {
   "cell_type": "code",
   "execution_count": null,
   "id": "23ae1fe5",
   "metadata": {},
   "outputs": [],
   "source": []
  },
  {
   "cell_type": "markdown",
   "id": "c9483c33",
   "metadata": {},
   "source": [
    "## Model Discovery and Selection\n",
    "\n",
    "OpenMed includes a curated registry of healthcare models. Let's explore what's available:\n"
   ]
  },
  {
   "cell_type": "code",
   "execution_count": null,
   "metadata": {},
   "outputs": [],
   "source": [
    "from openmed import list_models\n",
    "\n",
    "# See all available models\n",
    "models = list_models()\n",
    "print(f\"Total models available: {len(models)}\")\n",
    "print(\"\\nFirst 10 models:\")\n",
    "for model in models[:10]:\n",
    "    print(f\"  - {model}\")\n"
   ]
  },
  {
   "cell_type": "markdown",
   "metadata": {},
   "source": [
    "### Going beyond the bundled registry\n",
    "\n",
    "The command above lists only the models shipped in the OpenMed registry. If you want to pull additional models directly from Hugging Face, simply set `include_remote=True`.\n"
   ]
  },
  {
   "cell_type": "code",
   "execution_count": null,
   "metadata": {},
   "outputs": [],
   "source": [
    "# Fetch models from Hugging Face in addition to the local registry\n",
    "remote_models = list_models(include_remote=True)\n",
    "print(f'Total models with remote fetch: {len(remote_models)}')\n",
    "print('First 5 remote models:')\n",
    "for model in remote_models[:5]:\n",
    "    print(f'  - {model}')\n"
   ]
  },
  {
   "cell_type": "code",
   "execution_count": null,
   "metadata": {},
   "outputs": [],
   "source": [
    "from openmed.core.model_registry import list_model_categories\n",
    "# List all model categories\n",
    "categories = list_model_categories()\n",
    "print(\"Available model categories:\")\n",
    "for category in categories:\n",
    "    print(f\"  - {category}\")\n"
   ]
  },
  {
   "cell_type": "code",
   "execution_count": null,
   "metadata": {},
   "outputs": [],
   "source": [
    "from openmed.core.model_registry import get_models_by_category\n",
    "# Get models by category\n",
    "disease_models = get_models_by_category(\"Disease\")\n",
    "print(\"Disease detection models:\")\n",
    "for model in disease_models:\n",
    "    print(f\"  - {model.display_name} ({model.size_category})\")\n"
   ]
  },
  {
   "cell_type": "code",
   "execution_count": null,
   "metadata": {},
   "outputs": [],
   "source": [
    "from openmed import get_model_suggestions\n",
    "\n",
    "# Get model suggestions based on text content\n",
    "text = \"Metastatic breast cancer treated with paclitaxel and trastuzumab\"\n",
    "suggestions = get_model_suggestions(text)\n",
    "\n",
    "print(\"Model suggestions for the text above:\")\n",
    "for key, info, reason in suggestions:\n",
    "    print(f\"  {info.display_name} -> {reason}\")\n"
   ]
  },
  {
   "cell_type": "markdown",
   "metadata": {},
   "source": [
    "### Inspect tokenizer context windows\n",
    "\n",
    "Each OpenMed model exposes an inferred `max_length` so you can see how much context it supports before truncation. The `analyze_text` helper also records the length used in its `metadata`.\n"
   ]
  },
  {
   "cell_type": "code",
   "execution_count": 2,
   "metadata": {},
   "outputs": [
    {
     "name": "stdout",
     "output_type": "stream",
     "text": [
      "Inferred max_length: 512\n"
     ]
    },
    {
     "name": "stderr",
     "output_type": "stream",
     "text": [
      "Device set to use cpu\n"
     ]
    },
    {
     "ename": "TypeError",
     "evalue": "TokenClassificationPipeline._sanitize_parameters() got an unexpected keyword argument 'truncation'",
     "output_type": "error",
     "traceback": [
      "\u001b[0;31m---------------------------------------------------------------------------\u001b[0m",
      "\u001b[0;31mTypeError\u001b[0m                                 Traceback (most recent call last)",
      "Cell \u001b[0;32mIn[2], line 6\u001b[0m\n\u001b[1;32m      3\u001b[0m max_len \u001b[38;5;241m=\u001b[39m get_model_max_length(\u001b[38;5;124m'\u001b[39m\u001b[38;5;124mdisease_detection_superclinical\u001b[39m\u001b[38;5;124m'\u001b[39m)\n\u001b[1;32m      4\u001b[0m \u001b[38;5;28mprint\u001b[39m(\u001b[38;5;124m'\u001b[39m\u001b[38;5;124mInferred max_length:\u001b[39m\u001b[38;5;124m'\u001b[39m, max_len)\n\u001b[0;32m----> 6\u001b[0m detailed_result \u001b[38;5;241m=\u001b[39m \u001b[43manalyze_text\u001b[49m\u001b[43m(\u001b[49m\n\u001b[1;32m      7\u001b[0m \u001b[43m    \u001b[49m\u001b[38;5;124;43m'\u001b[39;49m\u001b[38;5;124;43mSuspected acute coronary syndrome with elevated troponin.\u001b[39;49m\u001b[38;5;124;43m'\u001b[39;49m\u001b[43m,\u001b[49m\n\u001b[1;32m      8\u001b[0m \u001b[43m    \u001b[49m\u001b[43mmodel_name\u001b[49m\u001b[38;5;241;43m=\u001b[39;49m\u001b[38;5;124;43m'\u001b[39;49m\u001b[38;5;124;43mdisease_detection_superclinical\u001b[39;49m\u001b[38;5;124;43m'\u001b[39;49m\u001b[43m,\u001b[49m\n\u001b[1;32m      9\u001b[0m \u001b[43m    \u001b[49m\u001b[43moutput_format\u001b[49m\u001b[38;5;241;43m=\u001b[39;49m\u001b[38;5;124;43m'\u001b[39;49m\u001b[38;5;124;43mdict\u001b[39;49m\u001b[38;5;124;43m'\u001b[39;49m\u001b[43m,\u001b[49m\n\u001b[1;32m     10\u001b[0m \u001b[43m)\u001b[49m\n\u001b[1;32m     11\u001b[0m \u001b[38;5;28mprint\u001b[39m(\u001b[38;5;124m'\u001b[39m\u001b[38;5;124mMetadata from analyze_text:\u001b[39m\u001b[38;5;124m'\u001b[39m, detailed_result\u001b[38;5;241m.\u001b[39mmetadata)\n",
      "File \u001b[0;32m~/Desktop/Work/openmed/openmed/__init__.py:142\u001b[0m, in \u001b[0;36manalyze_text\u001b[0;34m(text, model_name, config, loader, aggregation_strategy, output_format, include_confidence, confidence_threshold, group_entities, formatter_kwargs, metadata, use_fast_tokenizer, **pipeline_kwargs)\u001b[0m\n\u001b[1;32m    139\u001b[0m         call_kwargs[\u001b[38;5;124m\"\u001b[39m\u001b[38;5;124mmax_length\u001b[39m\u001b[38;5;124m\"\u001b[39m] \u001b[38;5;241m=\u001b[39m max_len\n\u001b[1;32m    141\u001b[0m start_time \u001b[38;5;241m=\u001b[39m time\u001b[38;5;241m.\u001b[39mtime()\n\u001b[0;32m--> 142\u001b[0m predictions \u001b[38;5;241m=\u001b[39m \u001b[43mner_pipeline\u001b[49m\u001b[43m(\u001b[49m\u001b[43mvalidated_text\u001b[49m\u001b[43m,\u001b[49m\u001b[43m \u001b[49m\u001b[38;5;241;43m*\u001b[39;49m\u001b[38;5;241;43m*\u001b[39;49m\u001b[43mcall_kwargs\u001b[49m\u001b[43m)\u001b[49m\n\u001b[1;32m    143\u001b[0m processing_time \u001b[38;5;241m=\u001b[39m time\u001b[38;5;241m.\u001b[39mtime() \u001b[38;5;241m-\u001b[39m start_time\n\u001b[1;32m    145\u001b[0m fmt_kwargs: Dict[\u001b[38;5;28mstr\u001b[39m, Any] \u001b[38;5;241m=\u001b[39m {\n\u001b[1;32m    146\u001b[0m     \u001b[38;5;124m\"\u001b[39m\u001b[38;5;124minclude_confidence\u001b[39m\u001b[38;5;124m\"\u001b[39m: include_confidence,\n\u001b[1;32m    147\u001b[0m     \u001b[38;5;124m\"\u001b[39m\u001b[38;5;124mgroup_entities\u001b[39m\u001b[38;5;124m\"\u001b[39m: group_entities,\n\u001b[1;32m    148\u001b[0m     \u001b[38;5;124m\"\u001b[39m\u001b[38;5;124mmetadata\u001b[39m\u001b[38;5;124m\"\u001b[39m: metadata \u001b[38;5;129;01mor\u001b[39;00m {},\n\u001b[1;32m    149\u001b[0m     \u001b[38;5;124m\"\u001b[39m\u001b[38;5;124mprocessing_time\u001b[39m\u001b[38;5;124m\"\u001b[39m: processing_time,\n\u001b[1;32m    150\u001b[0m }\n",
      "File \u001b[0;32m~/Desktop/Work/openmed/.venv-openmed/lib/python3.10/site-packages/transformers/pipelines/token_classification.py:279\u001b[0m, in \u001b[0;36mTokenClassificationPipeline.__call__\u001b[0;34m(self, inputs, **kwargs)\u001b[0m\n\u001b[1;32m    276\u001b[0m \u001b[38;5;28;01mif\u001b[39;00m offset_mapping:\n\u001b[1;32m    277\u001b[0m     kwargs[\u001b[38;5;124m\"\u001b[39m\u001b[38;5;124moffset_mapping\u001b[39m\u001b[38;5;124m\"\u001b[39m] \u001b[38;5;241m=\u001b[39m offset_mapping\n\u001b[0;32m--> 279\u001b[0m \u001b[38;5;28;01mreturn\u001b[39;00m \u001b[38;5;28;43msuper\u001b[39;49m\u001b[43m(\u001b[49m\u001b[43m)\u001b[49m\u001b[38;5;241;43m.\u001b[39;49m\u001b[38;5;21;43m__call__\u001b[39;49m\u001b[43m(\u001b[49m\u001b[43minputs\u001b[49m\u001b[43m,\u001b[49m\u001b[43m \u001b[49m\u001b[38;5;241;43m*\u001b[39;49m\u001b[38;5;241;43m*\u001b[39;49m\u001b[43mkwargs\u001b[49m\u001b[43m)\u001b[49m\n",
      "File \u001b[0;32m~/Desktop/Work/openmed/.venv-openmed/lib/python3.10/site-packages/transformers/pipelines/base.py:1420\u001b[0m, in \u001b[0;36mPipeline.__call__\u001b[0;34m(self, inputs, num_workers, batch_size, *args, **kwargs)\u001b[0m\n\u001b[1;32m   1417\u001b[0m     \u001b[38;5;28;01melse\u001b[39;00m:\n\u001b[1;32m   1418\u001b[0m         batch_size \u001b[38;5;241m=\u001b[39m \u001b[38;5;28mself\u001b[39m\u001b[38;5;241m.\u001b[39m_batch_size\n\u001b[0;32m-> 1420\u001b[0m preprocess_params, forward_params, postprocess_params \u001b[38;5;241m=\u001b[39m \u001b[38;5;28;43mself\u001b[39;49m\u001b[38;5;241;43m.\u001b[39;49m\u001b[43m_sanitize_parameters\u001b[49m\u001b[43m(\u001b[49m\u001b[38;5;241;43m*\u001b[39;49m\u001b[38;5;241;43m*\u001b[39;49m\u001b[43mkwargs\u001b[49m\u001b[43m)\u001b[49m\n\u001b[1;32m   1422\u001b[0m \u001b[38;5;66;03m# Fuse __init__ params and __call__ params without modifying the __init__ ones.\u001b[39;00m\n\u001b[1;32m   1423\u001b[0m preprocess_params \u001b[38;5;241m=\u001b[39m {\u001b[38;5;241m*\u001b[39m\u001b[38;5;241m*\u001b[39m\u001b[38;5;28mself\u001b[39m\u001b[38;5;241m.\u001b[39m_preprocess_params, \u001b[38;5;241m*\u001b[39m\u001b[38;5;241m*\u001b[39mpreprocess_params}\n",
      "\u001b[0;31mTypeError\u001b[0m: TokenClassificationPipeline._sanitize_parameters() got an unexpected keyword argument 'truncation'"
     ]
    }
   ],
   "source": [
    "from openmed import get_model_max_length, analyze_text\n",
    "\n",
    "max_len = get_model_max_length('disease_detection_superclinical')\n",
    "print('Inferred max_length:', max_len)\n",
    "\n",
    "detailed_result = analyze_text(\n",
    "    'Suspected acute coronary syndrome with elevated troponin.',\n",
    "    model_name='disease_detection_superclinical',\n",
    "    output_format='dict',\n",
    ")\n",
    "print('Metadata from analyze_text:', detailed_result.metadata)\n"
   ]
  },
  {
   "cell_type": "markdown",
   "id": "df969960",
   "metadata": {},
   "source": [
    "## Multiple Models\n",
    "\n",
    "Let's load multiple models and analyze a longer clinical text:\n"
   ]
  },
  {
   "cell_type": "code",
   "execution_count": null,
   "metadata": {},
   "outputs": [],
   "source": [
    "# Analyze a longer clinical text and visualize results\n",
    "clinical_text = \"\"\"\n",
    "Patient: John Doe, 65-year-old male\n",
    "Chief Complaint: Chest pain and shortness of breath\n",
    "History: Patient presents with acute onset chest pain radiating to left arm,\n",
    "associated with shortness of breath and diaphoresis.\n",
    "Past Medical History: Type 2 diabetes mellitus diagnosed 2015, Hypertension diagnosed 2010\n",
    "Current Medications: Metformin 1000mg BID, Lisinopril 10mg daily, Atorvastatin 40mg HS\n",
    "\"\"\"\n",
    "\n",
    "# Get results from different models with proper entity grouping\n",
    "disease_result = analyze_text(\n",
    "    clinical_text,\n",
    "    model_name=\"disease_detection_superclinical\",\n",
    "    group_entities=True\n",
    ")\n",
    "pharma_result = analyze_text(\n",
    "    clinical_text,\n",
    "    model_name=\"pharma_detection_superclinical\",\n",
    "    group_entities=True\n",
    ")\n",
    "\n",
    "print(\"Entity Distribution by Model:\")\n",
    "print(\"=\" * 40)\n",
    "\n",
    "# Count entities by type for each model\n",
    "disease_counts = {}\n",
    "for entity in disease_result.entities:\n",
    "    disease_counts[entity.label] = disease_counts.get(entity.label, 0) + 1\n",
    "\n",
    "pharma_counts = {}\n",
    "for entity in pharma_result.entities:\n",
    "    pharma_counts[entity.label] = pharma_counts.get(entity.label, 0) + 1\n",
    "\n",
    "print(\"Disease Model:\")\n",
    "for label, count in disease_counts.items():\n",
    "    print(f\"  {label}: {count}\")\n",
    "\n",
    "print(\"\\nPharma Model:\")\n",
    "for label, count in pharma_counts.items():\n",
    "    print(f\"  {label}: {count}\")\n",
    "\n",
    "# Create a simple text-based chart\n",
    "print(\"\\nEntity Distribution Chart:\")\n",
    "print(\"=\" * 40)\n",
    "\n",
    "# Combine all entities for visualization\n",
    "all_entities = []\n",
    "for entity in disease_result.entities:\n",
    "    all_entities.append((\"Disease Model\", entity.label, entity.text))\n",
    "for entity in pharma_result.entities:\n",
    "    all_entities.append((\"Pharma Model\", entity.label, entity.text))\n",
    "\n",
    "# Show first 10 entities in a table format\n",
    "print(f\"{'Model':<12} {'Entity Type':<15} {'Text'}\")\n",
    "print(\"-\" * 50)\n",
    "for model, label, text in all_entities[:10]:\n",
    "    print(f\"{model:<12} {label:<15} {text}\")\n"
   ]
  },
  {
   "cell_type": "markdown",
   "id": "250250d5",
   "metadata": {},
   "source": [
    "## Summary\n",
    "\n",
    "You've learned how to:\n",
    "\n",
    "1. **Install and set up** OpenMed\n",
    "2. **Perform basic text analysis** with `analyze_text()`\n",
    "3. **Discover and select models** using the registry\n",
    "4. **Use advanced processing** for more control\n",
    "5. **Preprocess medical text** for better results\n",
    "6. **Format outputs** in JSON, HTML, and CSV\n",
    "7. **Process multiple texts** efficiently\n",
    "8. **Validate inputs** for safety\n",
    "9. **Configure** OpenMed for production use\n",
    "10. **Visualize results** with entity distributions\n",
    "\n",
    "OpenMed makes healthcare NER accessible and easy to integrate into your applications!\n",
    "\n",
    "### Next Steps\n",
    "\n",
    "- Explore the [OpenMed website](https://openmed.life) for more examples\n",
    "- Check out the [GitHub repository](https://github.com/maziyarpanahi/openmed) for advanced usage\n",
    "- Join the community discussions for support and feedback\n",
    "\n",
    "### Useful Resources\n",
    "\n",
    "- **Documentation**: Available on the website\n",
    "- **Model Registry**: All available models with descriptions\n",
    "- **Examples**: More notebooks and code samples\n",
    "- **API Reference**: Complete function documentation\n"
   ]
  }
 ],
 "metadata": {
  "kernelspec": {
   "display_name": ".venv-openmed",
   "language": "python",
   "name": "python3"
  },
  "language_info": {
   "codemirror_mode": {
    "name": "ipython",
    "version": 3
   },
   "file_extension": ".py",
   "mimetype": "text/x-python",
   "name": "python",
   "nbconvert_exporter": "python",
   "pygments_lexer": "ipython3",
   "version": "3.10.16"
  }
 },
 "nbformat": 4,
 "nbformat_minor": 5
}
