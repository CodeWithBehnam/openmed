{
 "cells": [
  {
   "cell_type": "markdown",
   "metadata": {},
   "source": [
    "# OpenMed CLI Demonstration\n",
    "\n",
    "This notebook walks through the new `openmed` command-line tooling. Every step mirrors a real CLI invocation so you can reproduce the workflow in a standard terminal."
   ]
  },
  {
   "cell_type": "markdown",
   "metadata": {},
   "source": [
    "## Prerequisites\n",
    "\n",
    "- Install OpenMed (editable install recommended while developing):\n",
    "  ```bash\n",
    "  pip install -e .\n",
    "  ```\n",
    "- Ensure the `openmed` console script is on your PATH. In a notebook you can call it with the `!` shell escape."
   ]
  },
  {
   "cell_type": "code",
   "execution_count": null,
   "id": "edda7d90",
   "metadata": {},
   "outputs": [],
   "source": [
    "from pathlib import Path"
   ]
  },
  {
   "cell_type": "markdown",
   "id": "2f017f44",
   "metadata": {},
   "source": [
    "## 1. Discover commands\n",
    "\n",
    "The base command reports all subcommands and hints about the interactive UI."
   ]
  },
  {
   "cell_type": "code",
   "execution_count": null,
   "id": "9a556540",
   "metadata": {},
   "outputs": [],
   "source": [
    "!openmed --help"
   ]
  },
  {
   "cell_type": "markdown",
   "id": "23fcf55c",
   "metadata": {},
   "source": [
    "## 2. List available models\n",
    "\n",
    "Review the bundled registry instantly, or add `--include-remote` to fetch additional models from Hugging Face.\n"
   ]
  },
  {
   "cell_type": "code",
   "execution_count": null,
   "id": "030c22e2",
   "metadata": {},
   "outputs": [],
   "source": [
    "!openmed models list"
   ]
  },
  {
   "cell_type": "code",
   "execution_count": null,
   "id": "7dc1e299",
   "metadata": {},
   "outputs": [],
   "source": [
    "!openmed models list --include-remote"
   ]
  },
  {
   "cell_type": "markdown",
   "metadata": {},
   "source": [
    "## 3. Inspect model metadata\n",
    "\n",
    "The `models info` subcommand reveals size, recommended confidence, and entity coverage for any registry key."
   ]
  },
  {
   "cell_type": "code",
   "execution_count": null,
   "metadata": {},
   "outputs": [],
   "source": [
    "!openmed models info disease_detection_superclinical"
   ]
  },
  {
   "cell_type": "markdown",
   "metadata": {},
   "source": [
    "## 4. Analyse text inline\n",
    "\n",
    "Use `--text` for quick experiments. Set `--output-format json` if you want a JSON blob."
   ]
  },
  {
   "cell_type": "code",
   "execution_count": null,
   "metadata": {},
   "outputs": [],
   "source": [
    "!openmed analyze \\\n",
    "    --model disease_detection_superclinical \\\n",
    "    --text \"Patient diagnosed with acute lymphoblastic leukemia.\""
   ]
  },
  {
   "cell_type": "code",
   "execution_count": null,
   "metadata": {},
   "outputs": [],
   "source": [
    "!openmed analyze \\\n",
    "    --model disease_detection_superclinical \\\n",
    "    --text \"Acute myeloid leukemia with FLT3 mutation.\" \\\n",
    "    --output-format json --group-entities"
   ]
  },
  {
   "cell_type": "markdown",
   "metadata": {},
   "source": [
    "The JSON payload now includes a `metadata.max_length` field so you can confirm the tokenizer context window used for truncation."
   ]
  },
  {
   "cell_type": "markdown",
   "metadata": {},
   "source": [
    "## 5. Analyse text from a file\n",
    "\n",
    "Prepare a note in a temporary file and feed it to `--input-file`."
   ]
  },
  {
   "cell_type": "code",
   "execution_count": null,
   "metadata": {},
   "outputs": [],
   "source": [
    "sample_path = Path(\"note.txt\")\n",
    "sample_path.write_text(\"Metastatic breast cancer treated with paclitaxel.\")\n",
    "!openmed analyze --model oncology_detection_superclinical --input-file note.txt --confidence-threshold 0.6\n",
    "sample_path.unlink()"
   ]
  },
  {
   "cell_type": "markdown",
   "metadata": {},
   "source": [
    "## 6. Manage configuration\n",
    "\n",
    "Configuration values persist to `~/.config/openmed/config.toml` by default. Pass `--config-path` to experiment in isolation."
   ]
  },
  {
   "cell_type": "code",
   "execution_count": null,
   "metadata": {},
   "outputs": [],
   "source": [
    "!openmed config show"
   ]
  },
  {
   "cell_type": "code",
   "execution_count": null,
   "metadata": {},
   "outputs": [],
   "source": [
    "!openmed config set device cuda"
   ]
  },
  {
   "cell_type": "code",
   "execution_count": null,
   "metadata": {},
   "outputs": [],
   "source": [
    "!openmed config show"
   ]
  },
  {
   "cell_type": "markdown",
   "metadata": {},
   "source": [
    "### Work with an isolated config file\n",
    "\n",
    "This is useful in notebooks or tests so you don’t clobber your global settings."
   ]
  },
  {
   "cell_type": "code",
   "execution_count": null,
   "metadata": {},
   "outputs": [],
   "source": [
    "isolated_cfg = Path(\"openmed-demo-config.toml\")\n",
    "!openmed --config-path {isolated_cfg} config set timeout 120\n",
    "!openmed --config-path {isolated_cfg} config show\n",
    "isolated_cfg.unlink(missing_ok=True)"
   ]
  }
 ],
 "metadata": {
  "kernelspec": {
   "display_name": ".venv-openmed",
   "language": "python",
   "name": "python3"
  },
  "language_info": {
   "codemirror_mode": {
    "name": "ipython",
    "version": 3
   },
   "file_extension": ".py",
   "mimetype": "text/x-python",
   "name": "python",
   "nbconvert_exporter": "python",
   "pygments_lexer": "ipython3",
   "version": "3.10.16"
  }
 },
 "nbformat": 4,
 "nbformat_minor": 5
}
